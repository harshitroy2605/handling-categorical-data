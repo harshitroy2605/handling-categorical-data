{
 "cells": [
  {
   "cell_type": "code",
   "execution_count": 1,
   "metadata": {},
   "outputs": [],
   "source": [
    "import numpy as np\n",
    "import pandas as pd"
   ]
  },
  {
   "cell_type": "code",
   "execution_count": 2,
   "metadata": {},
   "outputs": [],
   "source": [
    "dataset=pd.read_csv('cars.csv',delimiter=';')"
   ]
  },
  {
   "cell_type": "code",
   "execution_count": 3,
   "metadata": {},
   "outputs": [
    {
     "data": {
      "text/html": [
       "<div>\n",
       "<style scoped>\n",
       "    .dataframe tbody tr th:only-of-type {\n",
       "        vertical-align: middle;\n",
       "    }\n",
       "\n",
       "    .dataframe tbody tr th {\n",
       "        vertical-align: top;\n",
       "    }\n",
       "\n",
       "    .dataframe thead th {\n",
       "        text-align: right;\n",
       "    }\n",
       "</style>\n",
       "<table border=\"1\" class=\"dataframe\">\n",
       "  <thead>\n",
       "    <tr style=\"text-align: right;\">\n",
       "      <th></th>\n",
       "      <th>Car</th>\n",
       "      <th>MPG</th>\n",
       "      <th>Cylinders</th>\n",
       "      <th>Displacement</th>\n",
       "      <th>Horsepower</th>\n",
       "      <th>Weight</th>\n",
       "      <th>Acceleration</th>\n",
       "      <th>Model</th>\n",
       "      <th>Origin</th>\n",
       "    </tr>\n",
       "  </thead>\n",
       "  <tbody>\n",
       "    <tr>\n",
       "      <th>397</th>\n",
       "      <td>Chrysler Lebaron Medallion</td>\n",
       "      <td>26.0</td>\n",
       "      <td>4</td>\n",
       "      <td>156.0</td>\n",
       "      <td>92.00</td>\n",
       "      <td>2585.</td>\n",
       "      <td>14.5</td>\n",
       "      <td>82</td>\n",
       "      <td>US</td>\n",
       "    </tr>\n",
       "    <tr>\n",
       "      <th>398</th>\n",
       "      <td>Ford Grenada l</td>\n",
       "      <td>22.0</td>\n",
       "      <td>6</td>\n",
       "      <td>232.0</td>\n",
       "      <td>112.0</td>\n",
       "      <td>2835</td>\n",
       "      <td>14.7</td>\n",
       "      <td>82</td>\n",
       "      <td>US</td>\n",
       "    </tr>\n",
       "    <tr>\n",
       "      <th>399</th>\n",
       "      <td>Toyota Celica GT</td>\n",
       "      <td>32.0</td>\n",
       "      <td>4</td>\n",
       "      <td>144.0</td>\n",
       "      <td>96.00</td>\n",
       "      <td>2665.</td>\n",
       "      <td>13.9</td>\n",
       "      <td>82</td>\n",
       "      <td>Japan</td>\n",
       "    </tr>\n",
       "    <tr>\n",
       "      <th>400</th>\n",
       "      <td>Dodge Charger 2.2</td>\n",
       "      <td>36.0</td>\n",
       "      <td>4</td>\n",
       "      <td>135.0</td>\n",
       "      <td>84.00</td>\n",
       "      <td>2370.</td>\n",
       "      <td>13.0</td>\n",
       "      <td>82</td>\n",
       "      <td>US</td>\n",
       "    </tr>\n",
       "    <tr>\n",
       "      <th>401</th>\n",
       "      <td>Chevrolet Camaro</td>\n",
       "      <td>27.0</td>\n",
       "      <td>4</td>\n",
       "      <td>151.0</td>\n",
       "      <td>90.00</td>\n",
       "      <td>2950.</td>\n",
       "      <td>17.3</td>\n",
       "      <td>82</td>\n",
       "      <td>US</td>\n",
       "    </tr>\n",
       "    <tr>\n",
       "      <th>402</th>\n",
       "      <td>Ford Mustang GL</td>\n",
       "      <td>27.0</td>\n",
       "      <td>4</td>\n",
       "      <td>140.0</td>\n",
       "      <td>86.00</td>\n",
       "      <td>2790.</td>\n",
       "      <td>15.6</td>\n",
       "      <td>82</td>\n",
       "      <td>US</td>\n",
       "    </tr>\n",
       "    <tr>\n",
       "      <th>403</th>\n",
       "      <td>Volkswagen Pickup</td>\n",
       "      <td>44.0</td>\n",
       "      <td>4</td>\n",
       "      <td>97.00</td>\n",
       "      <td>52.00</td>\n",
       "      <td>2130.</td>\n",
       "      <td>24.6</td>\n",
       "      <td>82</td>\n",
       "      <td>Europe</td>\n",
       "    </tr>\n",
       "    <tr>\n",
       "      <th>404</th>\n",
       "      <td>Dodge Rampage</td>\n",
       "      <td>32.0</td>\n",
       "      <td>4</td>\n",
       "      <td>135.0</td>\n",
       "      <td>84.00</td>\n",
       "      <td>2295.</td>\n",
       "      <td>11.6</td>\n",
       "      <td>82</td>\n",
       "      <td>US</td>\n",
       "    </tr>\n",
       "    <tr>\n",
       "      <th>405</th>\n",
       "      <td>Ford Ranger</td>\n",
       "      <td>28.0</td>\n",
       "      <td>4</td>\n",
       "      <td>120.0</td>\n",
       "      <td>79.00</td>\n",
       "      <td>2625.</td>\n",
       "      <td>18.6</td>\n",
       "      <td>82</td>\n",
       "      <td>US</td>\n",
       "    </tr>\n",
       "    <tr>\n",
       "      <th>406</th>\n",
       "      <td>Chevy S-10</td>\n",
       "      <td>31.0</td>\n",
       "      <td>4</td>\n",
       "      <td>119.0</td>\n",
       "      <td>82.00</td>\n",
       "      <td>2720.</td>\n",
       "      <td>19.4</td>\n",
       "      <td>82</td>\n",
       "      <td>US</td>\n",
       "    </tr>\n",
       "  </tbody>\n",
       "</table>\n",
       "</div>"
      ],
      "text/plain": [
       "                            Car   MPG Cylinders Displacement Horsepower  \\\n",
       "397  Chrysler Lebaron Medallion  26.0         4        156.0      92.00   \n",
       "398              Ford Grenada l  22.0         6        232.0      112.0   \n",
       "399            Toyota Celica GT  32.0         4        144.0      96.00   \n",
       "400           Dodge Charger 2.2  36.0         4        135.0      84.00   \n",
       "401            Chevrolet Camaro  27.0         4        151.0      90.00   \n",
       "402             Ford Mustang GL  27.0         4        140.0      86.00   \n",
       "403           Volkswagen Pickup  44.0         4        97.00      52.00   \n",
       "404               Dodge Rampage  32.0         4        135.0      84.00   \n",
       "405                 Ford Ranger  28.0         4        120.0      79.00   \n",
       "406                  Chevy S-10  31.0         4        119.0      82.00   \n",
       "\n",
       "    Weight Acceleration Model  Origin  \n",
       "397  2585.         14.5    82      US  \n",
       "398   2835         14.7    82      US  \n",
       "399  2665.         13.9    82   Japan  \n",
       "400  2370.         13.0    82      US  \n",
       "401  2950.         17.3    82      US  \n",
       "402  2790.         15.6    82      US  \n",
       "403  2130.         24.6    82  Europe  \n",
       "404  2295.         11.6    82      US  \n",
       "405  2625.         18.6    82      US  \n",
       "406  2720.         19.4    82      US  "
      ]
     },
     "execution_count": 3,
     "metadata": {},
     "output_type": "execute_result"
    }
   ],
   "source": [
    "df=dataset.tail(10)\n",
    "df"
   ]
  },
  {
   "cell_type": "code",
   "execution_count": 4,
   "metadata": {},
   "outputs": [
    {
     "data": {
      "text/plain": [
       "pandas.core.frame.DataFrame"
      ]
     },
     "execution_count": 4,
     "metadata": {},
     "output_type": "execute_result"
    }
   ],
   "source": [
    "type(df)"
   ]
  },
  {
   "cell_type": "code",
   "execution_count": 5,
   "metadata": {},
   "outputs": [],
   "source": [
    "df=df.iloc[:,:].values"
   ]
  },
  {
   "cell_type": "code",
   "execution_count": 6,
   "metadata": {},
   "outputs": [
    {
     "data": {
      "text/plain": [
       "array([['Chrysler Lebaron Medallion', '26.0', '4', '156.0', '92.00',\n",
       "        '2585.', '14.5', '82', 'US'],\n",
       "       ['Ford Grenada l', '22.0', '6', '232.0', '112.0', '2835', '14.7',\n",
       "        '82', 'US'],\n",
       "       ['Toyota Celica GT', '32.0', '4', '144.0', '96.00', '2665.',\n",
       "        '13.9', '82', 'Japan'],\n",
       "       ['Dodge Charger 2.2', '36.0', '4', '135.0', '84.00', '2370.',\n",
       "        '13.0', '82', 'US'],\n",
       "       ['Chevrolet Camaro', '27.0', '4', '151.0', '90.00', '2950.',\n",
       "        '17.3', '82', 'US'],\n",
       "       ['Ford Mustang GL', '27.0', '4', '140.0', '86.00', '2790.',\n",
       "        '15.6', '82', 'US'],\n",
       "       ['Volkswagen Pickup', '44.0', '4', '97.00', '52.00', '2130.',\n",
       "        '24.6', '82', 'Europe'],\n",
       "       ['Dodge Rampage', '32.0', '4', '135.0', '84.00', '2295.', '11.6',\n",
       "        '82', 'US'],\n",
       "       ['Ford Ranger', '28.0', '4', '120.0', '79.00', '2625.', '18.6',\n",
       "        '82', 'US'],\n",
       "       ['Chevy S-10', '31.0', '4', '119.0', '82.00', '2720.', '19.4',\n",
       "        '82', 'US']], dtype=object)"
      ]
     },
     "execution_count": 6,
     "metadata": {},
     "output_type": "execute_result"
    }
   ],
   "source": [
    "df"
   ]
  },
  {
   "cell_type": "code",
   "execution_count": 8,
   "metadata": {},
   "outputs": [],
   "source": [
    "from sklearn.preprocessing import LabelEncoder"
   ]
  },
  {
   "cell_type": "code",
   "execution_count": 9,
   "metadata": {},
   "outputs": [],
   "source": [
    "country=LabelEncoder()"
   ]
  },
  {
   "cell_type": "code",
   "execution_count": 11,
   "metadata": {},
   "outputs": [],
   "source": [
    "df[:,8]=country.fit_transform(df[:,8])"
   ]
  },
  {
   "cell_type": "code",
   "execution_count": 12,
   "metadata": {},
   "outputs": [
    {
     "data": {
      "text/plain": [
       "array([['Chrysler Lebaron Medallion', '26.0', '4', '156.0', '92.00',\n",
       "        '2585.', '14.5', '82', 2],\n",
       "       ['Ford Grenada l', '22.0', '6', '232.0', '112.0', '2835', '14.7',\n",
       "        '82', 2],\n",
       "       ['Toyota Celica GT', '32.0', '4', '144.0', '96.00', '2665.',\n",
       "        '13.9', '82', 1],\n",
       "       ['Dodge Charger 2.2', '36.0', '4', '135.0', '84.00', '2370.',\n",
       "        '13.0', '82', 2],\n",
       "       ['Chevrolet Camaro', '27.0', '4', '151.0', '90.00', '2950.',\n",
       "        '17.3', '82', 2],\n",
       "       ['Ford Mustang GL', '27.0', '4', '140.0', '86.00', '2790.',\n",
       "        '15.6', '82', 2],\n",
       "       ['Volkswagen Pickup', '44.0', '4', '97.00', '52.00', '2130.',\n",
       "        '24.6', '82', 0],\n",
       "       ['Dodge Rampage', '32.0', '4', '135.0', '84.00', '2295.', '11.6',\n",
       "        '82', 2],\n",
       "       ['Ford Ranger', '28.0', '4', '120.0', '79.00', '2625.', '18.6',\n",
       "        '82', 2],\n",
       "       ['Chevy S-10', '31.0', '4', '119.0', '82.00', '2720.', '19.4',\n",
       "        '82', 2]], dtype=object)"
      ]
     },
     "execution_count": 12,
     "metadata": {},
     "output_type": "execute_result"
    }
   ],
   "source": [
    "df"
   ]
  },
  {
   "cell_type": "code",
   "execution_count": 13,
   "metadata": {},
   "outputs": [],
   "source": [
    "from sklearn.compose import ColumnTransformer\n",
    "from sklearn.preprocessing import OneHotEncoder"
   ]
  },
  {
   "cell_type": "code",
   "execution_count": 18,
   "metadata": {},
   "outputs": [],
   "source": [
    "ct=ColumnTransformer(transformers=[('encode',OneHotEncoder(),[8])],remainder='passthrough')"
   ]
  },
  {
   "cell_type": "code",
   "execution_count": 19,
   "metadata": {},
   "outputs": [
    {
     "name": "stderr",
     "output_type": "stream",
     "text": [
      "c:\\python36\\lib\\site-packages\\sklearn\\preprocessing\\_encoders.py:415: FutureWarning: The handling of integer data will change in version 0.22. Currently, the categories are determined based on the range [0, max(values)], while in the future they will be determined based on the unique values.\n",
      "If you want the future behaviour and silence this warning, you can specify \"categories='auto'\".\n",
      "In case you used a LabelEncoder before this OneHotEncoder to convert the categories to integers, then you can now use the OneHotEncoder directly.\n",
      "  warnings.warn(msg, FutureWarning)\n"
     ]
    }
   ],
   "source": [
    "y=ct.fit_transform(df)"
   ]
  },
  {
   "cell_type": "code",
   "execution_count": 20,
   "metadata": {},
   "outputs": [
    {
     "data": {
      "text/plain": [
       "array([[0.0, 0.0, 1.0, 'Chrysler Lebaron Medallion', '26.0', '4',\n",
       "        '156.0', '92.00', '2585.', '14.5', '82'],\n",
       "       [0.0, 0.0, 1.0, 'Ford Grenada l', '22.0', '6', '232.0', '112.0',\n",
       "        '2835', '14.7', '82'],\n",
       "       [0.0, 1.0, 0.0, 'Toyota Celica GT', '32.0', '4', '144.0', '96.00',\n",
       "        '2665.', '13.9', '82'],\n",
       "       [0.0, 0.0, 1.0, 'Dodge Charger 2.2', '36.0', '4', '135.0',\n",
       "        '84.00', '2370.', '13.0', '82'],\n",
       "       [0.0, 0.0, 1.0, 'Chevrolet Camaro', '27.0', '4', '151.0', '90.00',\n",
       "        '2950.', '17.3', '82'],\n",
       "       [0.0, 0.0, 1.0, 'Ford Mustang GL', '27.0', '4', '140.0', '86.00',\n",
       "        '2790.', '15.6', '82'],\n",
       "       [1.0, 0.0, 0.0, 'Volkswagen Pickup', '44.0', '4', '97.00',\n",
       "        '52.00', '2130.', '24.6', '82'],\n",
       "       [0.0, 0.0, 1.0, 'Dodge Rampage', '32.0', '4', '135.0', '84.00',\n",
       "        '2295.', '11.6', '82'],\n",
       "       [0.0, 0.0, 1.0, 'Ford Ranger', '28.0', '4', '120.0', '79.00',\n",
       "        '2625.', '18.6', '82'],\n",
       "       [0.0, 0.0, 1.0, 'Chevy S-10', '31.0', '4', '119.0', '82.00',\n",
       "        '2720.', '19.4', '82']], dtype=object)"
      ]
     },
     "execution_count": 20,
     "metadata": {},
     "output_type": "execute_result"
    }
   ],
   "source": [
    "y"
   ]
  },
  {
   "cell_type": "code",
   "execution_count": 22,
   "metadata": {},
   "outputs": [
    {
     "data": {
      "text/html": [
       "<div>\n",
       "<style scoped>\n",
       "    .dataframe tbody tr th:only-of-type {\n",
       "        vertical-align: middle;\n",
       "    }\n",
       "\n",
       "    .dataframe tbody tr th {\n",
       "        vertical-align: top;\n",
       "    }\n",
       "\n",
       "    .dataframe thead th {\n",
       "        text-align: right;\n",
       "    }\n",
       "</style>\n",
       "<table border=\"1\" class=\"dataframe\">\n",
       "  <thead>\n",
       "    <tr style=\"text-align: right;\">\n",
       "      <th></th>\n",
       "      <th>0</th>\n",
       "      <th>1</th>\n",
       "      <th>2</th>\n",
       "      <th>3</th>\n",
       "      <th>4</th>\n",
       "      <th>5</th>\n",
       "      <th>6</th>\n",
       "      <th>7</th>\n",
       "      <th>8</th>\n",
       "      <th>9</th>\n",
       "      <th>10</th>\n",
       "    </tr>\n",
       "  </thead>\n",
       "  <tbody>\n",
       "    <tr>\n",
       "      <th>0</th>\n",
       "      <td>0</td>\n",
       "      <td>0</td>\n",
       "      <td>1</td>\n",
       "      <td>Chrysler Lebaron Medallion</td>\n",
       "      <td>26.0</td>\n",
       "      <td>4</td>\n",
       "      <td>156.0</td>\n",
       "      <td>92.00</td>\n",
       "      <td>2585.</td>\n",
       "      <td>14.5</td>\n",
       "      <td>82</td>\n",
       "    </tr>\n",
       "    <tr>\n",
       "      <th>1</th>\n",
       "      <td>0</td>\n",
       "      <td>0</td>\n",
       "      <td>1</td>\n",
       "      <td>Ford Grenada l</td>\n",
       "      <td>22.0</td>\n",
       "      <td>6</td>\n",
       "      <td>232.0</td>\n",
       "      <td>112.0</td>\n",
       "      <td>2835</td>\n",
       "      <td>14.7</td>\n",
       "      <td>82</td>\n",
       "    </tr>\n",
       "    <tr>\n",
       "      <th>2</th>\n",
       "      <td>0</td>\n",
       "      <td>1</td>\n",
       "      <td>0</td>\n",
       "      <td>Toyota Celica GT</td>\n",
       "      <td>32.0</td>\n",
       "      <td>4</td>\n",
       "      <td>144.0</td>\n",
       "      <td>96.00</td>\n",
       "      <td>2665.</td>\n",
       "      <td>13.9</td>\n",
       "      <td>82</td>\n",
       "    </tr>\n",
       "    <tr>\n",
       "      <th>3</th>\n",
       "      <td>0</td>\n",
       "      <td>0</td>\n",
       "      <td>1</td>\n",
       "      <td>Dodge Charger 2.2</td>\n",
       "      <td>36.0</td>\n",
       "      <td>4</td>\n",
       "      <td>135.0</td>\n",
       "      <td>84.00</td>\n",
       "      <td>2370.</td>\n",
       "      <td>13.0</td>\n",
       "      <td>82</td>\n",
       "    </tr>\n",
       "    <tr>\n",
       "      <th>4</th>\n",
       "      <td>0</td>\n",
       "      <td>0</td>\n",
       "      <td>1</td>\n",
       "      <td>Chevrolet Camaro</td>\n",
       "      <td>27.0</td>\n",
       "      <td>4</td>\n",
       "      <td>151.0</td>\n",
       "      <td>90.00</td>\n",
       "      <td>2950.</td>\n",
       "      <td>17.3</td>\n",
       "      <td>82</td>\n",
       "    </tr>\n",
       "    <tr>\n",
       "      <th>5</th>\n",
       "      <td>0</td>\n",
       "      <td>0</td>\n",
       "      <td>1</td>\n",
       "      <td>Ford Mustang GL</td>\n",
       "      <td>27.0</td>\n",
       "      <td>4</td>\n",
       "      <td>140.0</td>\n",
       "      <td>86.00</td>\n",
       "      <td>2790.</td>\n",
       "      <td>15.6</td>\n",
       "      <td>82</td>\n",
       "    </tr>\n",
       "    <tr>\n",
       "      <th>6</th>\n",
       "      <td>1</td>\n",
       "      <td>0</td>\n",
       "      <td>0</td>\n",
       "      <td>Volkswagen Pickup</td>\n",
       "      <td>44.0</td>\n",
       "      <td>4</td>\n",
       "      <td>97.00</td>\n",
       "      <td>52.00</td>\n",
       "      <td>2130.</td>\n",
       "      <td>24.6</td>\n",
       "      <td>82</td>\n",
       "    </tr>\n",
       "    <tr>\n",
       "      <th>7</th>\n",
       "      <td>0</td>\n",
       "      <td>0</td>\n",
       "      <td>1</td>\n",
       "      <td>Dodge Rampage</td>\n",
       "      <td>32.0</td>\n",
       "      <td>4</td>\n",
       "      <td>135.0</td>\n",
       "      <td>84.00</td>\n",
       "      <td>2295.</td>\n",
       "      <td>11.6</td>\n",
       "      <td>82</td>\n",
       "    </tr>\n",
       "    <tr>\n",
       "      <th>8</th>\n",
       "      <td>0</td>\n",
       "      <td>0</td>\n",
       "      <td>1</td>\n",
       "      <td>Ford Ranger</td>\n",
       "      <td>28.0</td>\n",
       "      <td>4</td>\n",
       "      <td>120.0</td>\n",
       "      <td>79.00</td>\n",
       "      <td>2625.</td>\n",
       "      <td>18.6</td>\n",
       "      <td>82</td>\n",
       "    </tr>\n",
       "    <tr>\n",
       "      <th>9</th>\n",
       "      <td>0</td>\n",
       "      <td>0</td>\n",
       "      <td>1</td>\n",
       "      <td>Chevy S-10</td>\n",
       "      <td>31.0</td>\n",
       "      <td>4</td>\n",
       "      <td>119.0</td>\n",
       "      <td>82.00</td>\n",
       "      <td>2720.</td>\n",
       "      <td>19.4</td>\n",
       "      <td>82</td>\n",
       "    </tr>\n",
       "  </tbody>\n",
       "</table>\n",
       "</div>"
      ],
      "text/plain": [
       "  0  1  2                           3     4  5      6      7      8     9   10\n",
       "0  0  0  1  Chrysler Lebaron Medallion  26.0  4  156.0  92.00  2585.  14.5  82\n",
       "1  0  0  1              Ford Grenada l  22.0  6  232.0  112.0   2835  14.7  82\n",
       "2  0  1  0            Toyota Celica GT  32.0  4  144.0  96.00  2665.  13.9  82\n",
       "3  0  0  1           Dodge Charger 2.2  36.0  4  135.0  84.00  2370.  13.0  82\n",
       "4  0  0  1            Chevrolet Camaro  27.0  4  151.0  90.00  2950.  17.3  82\n",
       "5  0  0  1             Ford Mustang GL  27.0  4  140.0  86.00  2790.  15.6  82\n",
       "6  1  0  0           Volkswagen Pickup  44.0  4  97.00  52.00  2130.  24.6  82\n",
       "7  0  0  1               Dodge Rampage  32.0  4  135.0  84.00  2295.  11.6  82\n",
       "8  0  0  1                 Ford Ranger  28.0  4  120.0  79.00  2625.  18.6  82\n",
       "9  0  0  1                  Chevy S-10  31.0  4  119.0  82.00  2720.  19.4  82"
      ]
     },
     "execution_count": 22,
     "metadata": {},
     "output_type": "execute_result"
    }
   ],
   "source": [
    "y=pd.DataFrame(y)\n",
    "y"
   ]
  },
  {
   "cell_type": "code",
   "execution_count": null,
   "metadata": {},
   "outputs": [],
   "source": []
  }
 ],
 "metadata": {
  "kernelspec": {
   "display_name": "Python 3",
   "language": "python",
   "name": "python3"
  },
  "language_info": {
   "codemirror_mode": {
    "name": "ipython",
    "version": 3
   },
   "file_extension": ".py",
   "mimetype": "text/x-python",
   "name": "python",
   "nbconvert_exporter": "python",
   "pygments_lexer": "ipython3",
   "version": "3.6.2"
  }
 },
 "nbformat": 4,
 "nbformat_minor": 2
}
